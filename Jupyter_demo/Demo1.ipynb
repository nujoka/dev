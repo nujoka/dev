{
 "cells": [
  {
   "cell_type": "code",
   "execution_count": null,
   "id": "755d0caa",
   "metadata": {},
   "outputs": [],
   "source": []
  },
  {
   "cell_type": "code",
   "execution_count": null,
   "id": "9f1ba4be",
   "metadata": {},
   "outputs": [],
   "source": [
    "print('hello World')\n"
   ]
  }
 ],
 "metadata": {
  "kernelspec": {
   "display_name": "Python 3",
   "language": "python",
   "name": "python3"
  },
  "language_info": {
   "name": "python",
   "version": "3.13.3"
  }
 },
 "nbformat": 4,
 "nbformat_minor": 5
}
